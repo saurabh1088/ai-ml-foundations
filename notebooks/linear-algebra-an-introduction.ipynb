{
  "cells": [
    {
      "cell_type": "markdown",
      "metadata": {
        "id": "AMdVn6NVmmW-"
      },
      "source": [
        "[![Open in Colab](https://colab.research.google.com/assets/colab-badge.svg)](https://colab.research.google.com/github/saurabh1088/ai-ml-foundations/blob/main/notebooks/linear-algebra-an-introduction.ipynb)\n"
      ]
    },
    {
      "cell_type": "markdown",
      "metadata": {
        "id": "H1NMrEzGmmW_"
      },
      "source": [
        "# Linear Algebra using Python\n",
        "\n",
        "Here is a simple example in a Python Jupyter notebook format using NumPy and Matplotlib that shows how a linear transformation works. This is a core concept that underpins how neural networks process information.\n",
        "\n",
        "Import the necessary libraries bold text"
      ]
    },
    {
      "cell_type": "code",
      "execution_count": null,
      "metadata": {
        "id": "O8UfFk1obRMo"
      },
      "outputs": [],
      "source": [
        "import numpy as np\n",
        "import matplotlib.pyplot as pyplot"
      ]
    },
    {
      "cell_type": "markdown",
      "metadata": {
        "id": "GDmd6JMjmmXA"
      },
      "source": [
        "### Representing Data as a Matrix\n",
        "- In machine learning, a dataset is often represented as a matrix.\n",
        "- Each row is a data point (a vector), and each column is a feature.\n",
        "- Let's create a simple dataset with 3 data points and 2 features (x, y).\n",
        "- The shape of this matrix is (3, 2)."
      ]
    },
    {
      "cell_type": "code",
      "execution_count": null,
      "metadata": {
        "id": "yEnQ1LOWmmXA"
      },
      "outputs": [],
      "source": [
        "data_points = np.array([\n",
        "    [1, 2],\n",
        "    [3, 1],\n",
        "    [2, 4]\n",
        "])\n",
        "\n",
        "print(\"Original Data Points (Matrix):\")\n",
        "print(data_points)\n",
        "print(\"\\nShape of data matrix:\", data_points.shape)"
      ]
    },
    {
      "cell_type": "markdown",
      "source": [
        "### Defining a Linear Transformation (Rotation)\n",
        "- AI models apply transformations to data to find patterns.\n",
        "- A linear transformation can be represented by a matrix.\n",
        "- Here, we'll create a rotation matrix to rotate our data by 90 degrees.\n",
        "- This is a fixed rule, similar to how a neural network layer has fixed weights before it starts learning."
      ],
      "metadata": {
        "id": "B4M0wIPLVMl-"
      }
    },
    {
      "cell_type": "code",
      "source": [
        "theta = np.radians(90) # Convert 90 degrees to radians\n",
        "rotation_matrix = np.array([\n",
        "    [np.cos(theta), -np.sin(theta)],\n",
        "    [np.sin(theta), np.cos(theta)]\n",
        "])\n",
        "\n",
        "print(\"\\nRotation Matrix (Transformation):\")\n",
        "print(rotation_matrix)\n",
        "print(\"\\nShape of rotation matrix:\", rotation_matrix.shape)"
      ],
      "metadata": {
        "id": "7C5XUpa8VZai"
      },
      "execution_count": null,
      "outputs": []
    },
    {
      "cell_type": "markdown",
      "source": [
        "### Applying the Transformation (Matrix Multiplication)\n",
        "- The core of many AI algorithms is matrix multiplication.\n",
        "- We multiply our data matrix by the transformation matrix to get our new, transformed data points. This is how data \"flows\" through a model.\n",
        "- The `np.dot` function performs this multiplication."
      ],
      "metadata": {
        "id": "BIUCqMIjVrjN"
      }
    },
    {
      "cell_type": "code",
      "source": [
        "transformed_data = np.dot(data_points, rotation_matrix)\n",
        "\n",
        "print(\"\\nTransformed Data Points (after 90-degree rotation):\")\n",
        "print(transformed_data)"
      ],
      "metadata": {
        "id": "XqoR5iBkVxo0"
      },
      "execution_count": null,
      "outputs": []
    },
    {
      "cell_type": "markdown",
      "source": [
        "### Visualizing the Result with Matplotlib\n",
        "- Visualizing data helps us understand the effect of the transformation.\n",
        "- We'll plot the original and the new data points to see the rotation."
      ],
      "metadata": {
        "id": "NskfGgTXWFwS"
      }
    },
    {
      "cell_type": "code",
      "source": [
        "pyplot.figure(figsize=(8, 8))"
      ],
      "metadata": {
        "id": "k1uLvpBEWI7t"
      },
      "execution_count": null,
      "outputs": []
    },
    {
      "cell_type": "markdown",
      "source": [
        "### Plot the original data points"
      ],
      "metadata": {
        "id": "mb4cls-cWQvb"
      }
    },
    {
      "cell_type": "code",
      "source": [
        "pyplot.scatter(data_points[:, 0], data_points[:, 1], color='blue', label='Original Data')\n",
        "for i, txt in enumerate(data_points):\n",
        "    pyplot.annotate(f'({txt[0]}, {txt[1]})', (txt[0], txt[1]), fontsize=12)"
      ],
      "metadata": {
        "id": "vZ3scdj1WRsE"
      },
      "execution_count": null,
      "outputs": []
    },
    {
      "cell_type": "markdown",
      "source": [
        "### Plot the transformed data points"
      ],
      "metadata": {
        "id": "VY_KkNw4WcHC"
      }
    },
    {
      "cell_type": "code",
      "source": [
        "pyplot.scatter(transformed_data[:, 0], transformed_data[:, 1], color='red', label='Transformed Data')\n",
        "for i, txt in enumerate(transformed_data):\n",
        "    pyplot.annotate(f'({round(txt[0])}, {round(txt[1])})', (txt[0], txt[1]), fontsize=12)"
      ],
      "metadata": {
        "id": "8DPbnRFqWc23"
      },
      "execution_count": null,
      "outputs": []
    },
    {
      "cell_type": "markdown",
      "source": [
        "### Add plot details"
      ],
      "metadata": {
        "id": "joev36QwWpTJ"
      }
    },
    {
      "cell_type": "code",
      "source": [],
      "metadata": {
        "id": "DQpF8JMuWp9e"
      },
      "execution_count": null,
      "outputs": []
    },
    {
      "cell_type": "code",
      "source": [
        "pyplot.title('Linear Transformation: Data Rotation')\n",
        "pyplot.xlabel('Feature 1')\n",
        "pyplot.ylabel('Feature 2')\n",
        "pyplot.axhline(0, color='black', linewidth=0.5)\n",
        "pyplot.axvline(0, color='black', linewidth=0.5)\n",
        "pyplot.grid(color='gray', linestyle='--', linewidth=0.5)\n",
        "pyplot.legend()\n",
        "pyplot.axis('equal') # Ensure a square aspect ratio for proper visualization\n",
        "pyplot.show()"
      ],
      "metadata": {
        "id": "gf4UJ6QKWsYr"
      },
      "execution_count": null,
      "outputs": []
    },
    {
      "cell_type": "markdown",
      "source": [
        "## Reasoning\n",
        "\n",
        "The key takeaway from this example is that data is a matrix, and a model's processing is a series of matrix operations. The rotation matrix serves as a simple analogy for a neural network layer's weights, and the np.dot operation is the core of how data is transformed in a single step.\n",
        "\n",
        "Notice how the blue points are rotated to the red points. This single operation, `np.dot`, transformed our entire dataset. In deep learning, neural network layers perform these kinds of operations on massive datasets to learn complex patterns. Understanding this simple matrix multiplication is key to understanding how information is processed and transformed in an AI model.\n",
        "\n",
        "\n",
        "### The Connection to Machine Learning and AI\n",
        "\n",
        "#### Data Representation:\n",
        "The first step of any machine learning project is to represent data in a way that a computer can understand. In above example, a simple dataset is represented as a matrix called data_points. In a real-world scenario, this matrix could be a table of customer data, a collection of pixel values from an image, or word embeddings from a text document. This demonstrates the core idea that all data, no matter its form, is ultimately a matrix of numbers.\n",
        "\n",
        "#### The \"Model\" as a Transformation:\n",
        "The rotation_matrix is a simplified, fixed-rule version of what a machine learning model actually does. A model's \"learning\" process is all about finding the right values for its own internal matrices (called weights) to perform a desired transformation. In above example, the transformation is a simple rotation. In a neural network, the transformations are far more complex, but they are still achieved through matrix multiplication. The np.dot operation is the engine that drives this process.\n",
        "\n",
        "#### The Goal is a New Representation:\n",
        "The output, transformed_data, is a new representation of the original data. In this specific example, it's just a rotated version. However, in machine learning, this new representation might be a more useful format. For instance, a neural network might transform a matrix of pixel values into a new matrix that represents the \"features\" of the image (e.g., the presence of a nose, a mouth, and eyes). This new, more abstract representation is what allows the model to recognize a face, or make a prediction about an outcome.\n",
        "\n"
      ],
      "metadata": {
        "id": "Gjjx0tQ6zMFG"
      }
    }
  ],
  "metadata": {
    "colab": {
      "provenance": []
    },
    "kernelspec": {
      "display_name": "Python 3",
      "name": "python3"
    },
    "language_info": {
      "name": "python",
      "version": "3.11.4"
    }
  },
  "nbformat": 4,
  "nbformat_minor": 0
}