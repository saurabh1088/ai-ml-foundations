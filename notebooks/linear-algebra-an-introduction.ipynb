{
  "nbformat": 4,
  "nbformat_minor": 0,
  "metadata": {
    "colab": {
      "provenance": []
    },
    "kernelspec": {
      "name": "python3",
      "display_name": "Python 3"
    },
    "language_info": {
      "name": "python"
    }
  },
  "cells": [
    {
      "cell_type": "code",
      "execution_count": 1,
      "metadata": {
        "colab": {
          "base_uri": "https://localhost:8080/"
        },
        "id": "O8UfFk1obRMo",
        "outputId": "9bbfb556-86e8-4c80-bd36-29cbeb1a23b6"
      },
      "outputs": [
        {
          "output_type": "stream",
          "name": "stdout",
          "text": [
            "Jupyter Kickoff\n"
          ]
        }
      ],
      "source": [
        "print('Jupyter Kickoff')"
      ]
    }
  ]
}