{
  "cells": [
    {
      "cell_type": "markdown",
      "metadata": {
        "id": "AMdVn6NVmmW-"
      },
      "source": [
        "[![Open in Colab](https://colab.research.google.com/assets/colab-badge.svg)](https://colab.research.google.com/github/saurabh1088/ai-ml-foundations/blob/main/notebooks/linear-algebra-an-introduction.ipynb)\n"
      ]
    },
    {
      "cell_type": "markdown",
      "metadata": {
        "id": "H1NMrEzGmmW_"
      },
      "source": [
        "Import the necessary libraries"
      ]
    },
    {
      "cell_type": "code",
      "execution_count": 1,
      "metadata": {
        "id": "O8UfFk1obRMo"
      },
      "outputs": [],
      "source": [
        "import numpy as np\n",
        "import matplotlib.pyplot as pyplot"
      ]
    },
    {
      "cell_type": "markdown",
      "metadata": {
        "id": "GDmd6JMjmmXA"
      },
      "source": [
        "--- 1. Representing Data as a Matrix ---\n",
        "- In machine learning, a dataset is often represented as a matrix.\n",
        "- Each row is a data point (a vector), and each column is a feature.\n",
        "- Let's create a simple dataset with 3 data points and 2 features (x, y).\n",
        "- The shape of this matrix is (3, 2)."
      ]
    },
    {
      "cell_type": "code",
      "execution_count": 2,
      "metadata": {
        "id": "yEnQ1LOWmmXA",
        "outputId": "63c7eada-2ae2-4e7d-b005-a6b5f5994c69",
        "colab": {
          "base_uri": "https://localhost:8080/"
        }
      },
      "outputs": [
        {
          "output_type": "stream",
          "name": "stdout",
          "text": [
            "Original Data Points (Matrix):\n",
            "[[1 2]\n",
            " [3 1]\n",
            " [2 4]]\n",
            "\n",
            "Shape of data matrix: (3, 2)\n"
          ]
        }
      ],
      "source": [
        "data_points = np.array([\n",
        "    [1, 2],\n",
        "    [3, 1],\n",
        "    [2, 4]\n",
        "])\n",
        "\n",
        "print(\"Original Data Points (Matrix):\")\n",
        "print(data_points)\n",
        "print(\"\\nShape of data matrix:\", data_points.shape)"
      ]
    }
  ],
  "metadata": {
    "colab": {
      "provenance": []
    },
    "kernelspec": {
      "display_name": "Python 3",
      "name": "python3"
    },
    "language_info": {
      "name": "python",
      "version": "3.11.4"
    }
  },
  "nbformat": 4,
  "nbformat_minor": 0
}