{
  "nbformat": 4,
  "nbformat_minor": 0,
  "metadata": {
    "colab": {
      "provenance": []
    },
    "kernelspec": {
      "name": "python3",
      "display_name": "Python 3"
    },
    "language_info": {
      "name": "python"
    }
  },
  "cells": [
    {
      "cell_type": "code",
      "execution_count": null,
      "metadata": {
        "id": "A4Lvmkph0Acs"
      },
      "outputs": [],
      "source": [
        "import numpy as np\n",
        "import matplotlib.pyplot as plt"
      ]
    },
    {
      "cell_type": "markdown",
      "source": [
        "### Representing Data and Weights as Vectors ---\n",
        "- Imagine one want to predict a student's final grade based on two features: hours studied and attendance score.\n",
        "- Our data points are vectors where each element is a feature.\n",
        "- The `data_matrix` contains multiple data points (rows)."
      ],
      "metadata": {
        "id": "JNOSx-KB0Foe"
      }
    },
    {
      "cell_type": "code",
      "source": [
        "data_matrix = np.array([\n",
        "    [5, 90],  # Student A: 5 hours studied, 90% attendance\n",
        "    [10, 95], # Student B: 10 hours studied, 95% attendance\n",
        "    [2, 70],  # Student C: 2 hours studied, 70% attendance\n",
        "    [8, 85]   # Student D: 8 hours studied, 85% attendance\n",
        "])"
      ],
      "metadata": {
        "id": "ktzsLHf-0aqh"
      },
      "execution_count": null,
      "outputs": []
    },
    {
      "cell_type": "markdown",
      "source": [
        "A model learns \"weights\" to decide how important each feature is.\n",
        "In this case, we'll assign more weight to hours studied."
      ],
      "metadata": {
        "id": "ISA0psZ00hl4"
      }
    },
    {
      "cell_type": "code",
      "source": [
        "weights = np.array([0.7, 0.3]) # 0.7 for hours, 0.3 for attendance\n",
        "\n",
        "print(\"Data Matrix (Hours Studied, Attendance):\")\n",
        "print(data_matrix)\n",
        "print(\"\\nWeights Vector (Model's importance for each feature):\")\n",
        "print(weights)"
      ],
      "metadata": {
        "id": "94MBqO0t0mdE"
      },
      "execution_count": null,
      "outputs": []
    },
    {
      "cell_type": "markdown",
      "source": [
        "### Performing the Dot Product to Make a Prediction ---\n",
        "- The dot product calculates a weighted sum. It's the core of a simple\n",
        "linear model:\n",
        "- prediction = (feature_1 * weight_1) + (feature_2 * weight_2) + ...\n",
        "- Using the `np.dot` function or the `@` operator, we can do this for all\n",
        "data points in a single, efficient operation."
      ],
      "metadata": {
        "id": "kCh89_OO0wgt"
      }
    },
    {
      "cell_type": "code",
      "source": [
        "predictions = np.dot(data_matrix, weights)"
      ],
      "metadata": {
        "id": "si3ubeCX1LKy"
      },
      "execution_count": null,
      "outputs": []
    },
    {
      "cell_type": "markdown",
      "source": [
        "In machine learning terms, this `predictions` vector is the output of a single \"neuron\" or a linear regression model."
      ],
      "metadata": {
        "id": "08FjjoE81MKE"
      }
    },
    {
      "cell_type": "code",
      "source": [
        "print(\"\\nPrediction Scores (The weighted sum for each student):\")\n",
        "print(predictions)"
      ],
      "metadata": {
        "id": "IyVpEfZH1VSc"
      },
      "execution_count": null,
      "outputs": []
    },
    {
      "cell_type": "markdown",
      "source": [
        "### Visualizing the Result ---\n",
        "- We can visualize how the hours studied relate to the final predicted score.\n",
        "- A stronger relationship means the model is making a clear, weighted prediction."
      ],
      "metadata": {
        "id": "bThx13IJ1bM0"
      }
    },
    {
      "cell_type": "code",
      "source": [
        "plt.figure(figsize=(10, 6))"
      ],
      "metadata": {
        "id": "MndcI3Yq1hRX"
      },
      "execution_count": null,
      "outputs": []
    },
    {
      "cell_type": "markdown",
      "source": [
        "Plot the hours studied against the final prediction score."
      ],
      "metadata": {
        "id": "y2bbfDtc1ktK"
      }
    },
    {
      "cell_type": "code",
      "source": [
        "plt.scatter(data_matrix[:, 0], predictions, color='purple', s=100, label='Student Predictions')\n",
        "for i, txt in enumerate(predictions):\n",
        "    plt.annotate(f'Score: {round(txt, 2)}', (data_matrix[i, 0], txt), fontsize=12, xytext=(5, -5), textcoords='offset points')"
      ],
      "metadata": {
        "id": "XzA4NiAw1lYa"
      },
      "execution_count": null,
      "outputs": []
    },
    {
      "cell_type": "code",
      "source": [
        "Add plot details"
      ],
      "metadata": {
        "id": "jGdbRaoX1r6T"
      },
      "execution_count": null,
      "outputs": []
    },
    {
      "cell_type": "code",
      "source": [
        "plt.title('Prediction Scores based on Hours Studied')\n",
        "plt.xlabel('Hours Studied')\n",
        "plt.ylabel('Final Predicted Score')\n",
        "plt.grid(True, linestyle='--', alpha=0.6)\n",
        "plt.legend()\n",
        "plt.show()"
      ],
      "metadata": {
        "id": "IMoIkQY21vIm"
      },
      "execution_count": null,
      "outputs": []
    },
    {
      "cell_type": "markdown",
      "source": [
        "## --- Conclusion ---\n",
        "- The dot product is a simple but powerful tool. It transforms multiple features (the data matrix) and their importance (the weights vector) into a single prediction score. This is the foundation for a single neuron in a neural network, where the weights are learned through training to produce the most accurate predictions."
      ],
      "metadata": {
        "id": "Nu5MBe3w2GAR"
      }
    }
  ]
}